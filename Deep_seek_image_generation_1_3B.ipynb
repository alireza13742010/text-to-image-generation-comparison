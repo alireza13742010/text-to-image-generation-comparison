{
  "nbformat": 4,
  "nbformat_minor": 0,
  "metadata": {
    "colab": {
      "provenance": [],
      "gpuType": "T4"
    },
    "kernelspec": {
      "name": "python3",
      "display_name": "Python 3"
    },
    "language_info": {
      "name": "python"
    },
    "accelerator": "GPU"
  },
  "cells": [
    {
      "cell_type": "code",
      "source": [
        "!git clone https://github.com/deepseek-ai/Janus.git"
      ],
      "metadata": {
        "colab": {
          "base_uri": "https://localhost:8080/"
        },
        "id": "-0mNoP7f6M8D",
        "outputId": "c7d2a4a1-0576-4263-e840-f665ab07a03a"
      },
      "execution_count": null,
      "outputs": [
        {
          "output_type": "stream",
          "name": "stdout",
          "text": [
            "fatal: destination path 'Janus' already exists and is not an empty directory.\r\n"
          ]
        }
      ]
    },
    {
      "cell_type": "code",
      "source": [
        "cd Janus/"
      ],
      "metadata": {
        "colab": {
          "base_uri": "https://localhost:8080/"
        },
        "id": "sHrYc8tK6V6x",
        "outputId": "6075c260-e50b-4dda-e381-87aa35c7eb21"
      },
      "execution_count": null,
      "outputs": [
        {
          "output_type": "stream",
          "name": "stdout",
          "text": [
            "/media/avidmech/data/Deep seek image generation/Janus\n"
          ]
        }
      ]
    },
    {
      "cell_type": "code",
      "source": [
        "!pip install -e ."
      ],
      "metadata": {
        "colab": {
          "base_uri": "https://localhost:8080/"
        },
        "id": "MWO9TBOw6ZIa",
        "outputId": "d7f07dc9-b2cc-4ae0-b772-fd2747898546"
      },
      "execution_count": null,
      "outputs": [
        {
          "output_type": "stream",
          "name": "stdout",
          "text": [
            "Obtaining file:///media/avidmech/data/Deep%20seek%20image%20generation/Janus\n",
            "  Installing build dependencies ... \u001b[?25l-\b \b\\\b \b|\b \b/\b \bdone\n",
            "\u001b[?25h  Checking if build backend supports build_editable ... \u001b[?25ldone\n",
            "\u001b[?25h  Getting requirements to build editable ... \u001b[?25l-\b \bdone\n",
            "\u001b[?25h  Preparing editable metadata (pyproject.toml) ... \u001b[?25l-\b \bdone\n",
            "\u001b[?25hRequirement already satisfied: torch>=2.0.1 in /home/avidmech/miniconda3/lib/python3.12/site-packages (from janus==1.0.0) (2.5.1)\n",
            "Requirement already satisfied: transformers>=4.38.2 in /home/avidmech/miniconda3/lib/python3.12/site-packages (from janus==1.0.0) (4.47.1)\n",
            "Requirement already satisfied: timm>=0.9.16 in /home/avidmech/miniconda3/lib/python3.12/site-packages (from janus==1.0.0) (1.0.14)\n",
            "Requirement already satisfied: accelerate in /home/avidmech/miniconda3/lib/python3.12/site-packages (from janus==1.0.0) (1.2.1)\n",
            "Requirement already satisfied: sentencepiece in /home/avidmech/miniconda3/lib/python3.12/site-packages (from janus==1.0.0) (0.2.0)\n",
            "Requirement already satisfied: attrdict in /home/avidmech/miniconda3/lib/python3.12/site-packages (from janus==1.0.0) (2.0.1)\n",
            "Requirement already satisfied: einops in /home/avidmech/miniconda3/lib/python3.12/site-packages (from janus==1.0.0) (0.8.0)\n",
            "Requirement already satisfied: torchvision in /home/avidmech/miniconda3/lib/python3.12/site-packages (from timm>=0.9.16->janus==1.0.0) (0.20.1)\n",
            "Requirement already satisfied: pyyaml in /home/avidmech/miniconda3/lib/python3.12/site-packages (from timm>=0.9.16->janus==1.0.0) (6.0.2)\n",
            "Requirement already satisfied: huggingface_hub in /home/avidmech/miniconda3/lib/python3.12/site-packages (from timm>=0.9.16->janus==1.0.0) (0.26.0)\n",
            "Requirement already satisfied: safetensors in /home/avidmech/miniconda3/lib/python3.12/site-packages (from timm>=0.9.16->janus==1.0.0) (0.4.5)\n",
            "Requirement already satisfied: filelock in /home/avidmech/miniconda3/lib/python3.12/site-packages (from torch>=2.0.1->janus==1.0.0) (3.13.1)\n",
            "Requirement already satisfied: typing-extensions>=4.8.0 in /home/avidmech/miniconda3/lib/python3.12/site-packages (from torch>=2.0.1->janus==1.0.0) (4.12.2)\n",
            "Requirement already satisfied: networkx in /home/avidmech/miniconda3/lib/python3.12/site-packages (from torch>=2.0.1->janus==1.0.0) (3.2.1)\n",
            "Requirement already satisfied: jinja2 in /home/avidmech/miniconda3/lib/python3.12/site-packages (from torch>=2.0.1->janus==1.0.0) (3.1.3)\n",
            "Requirement already satisfied: fsspec in /home/avidmech/miniconda3/lib/python3.12/site-packages (from torch>=2.0.1->janus==1.0.0) (2024.6.1)\n",
            "Requirement already satisfied: nvidia-cuda-nvrtc-cu12==12.4.127 in /home/avidmech/miniconda3/lib/python3.12/site-packages (from torch>=2.0.1->janus==1.0.0) (12.4.127)\n",
            "Requirement already satisfied: nvidia-cuda-runtime-cu12==12.4.127 in /home/avidmech/miniconda3/lib/python3.12/site-packages (from torch>=2.0.1->janus==1.0.0) (12.4.127)\n",
            "Requirement already satisfied: nvidia-cuda-cupti-cu12==12.4.127 in /home/avidmech/miniconda3/lib/python3.12/site-packages (from torch>=2.0.1->janus==1.0.0) (12.4.127)\n",
            "Requirement already satisfied: nvidia-cudnn-cu12==9.1.0.70 in /home/avidmech/miniconda3/lib/python3.12/site-packages (from torch>=2.0.1->janus==1.0.0) (9.1.0.70)\n",
            "Requirement already satisfied: nvidia-cublas-cu12==12.4.5.8 in /home/avidmech/miniconda3/lib/python3.12/site-packages (from torch>=2.0.1->janus==1.0.0) (12.4.5.8)\n",
            "Requirement already satisfied: nvidia-cufft-cu12==11.2.1.3 in /home/avidmech/miniconda3/lib/python3.12/site-packages (from torch>=2.0.1->janus==1.0.0) (11.2.1.3)\n",
            "Requirement already satisfied: nvidia-curand-cu12==10.3.5.147 in /home/avidmech/miniconda3/lib/python3.12/site-packages (from torch>=2.0.1->janus==1.0.0) (10.3.5.147)\n",
            "Requirement already satisfied: nvidia-cusolver-cu12==11.6.1.9 in /home/avidmech/miniconda3/lib/python3.12/site-packages (from torch>=2.0.1->janus==1.0.0) (11.6.1.9)\n",
            "Requirement already satisfied: nvidia-cusparse-cu12==12.3.1.170 in /home/avidmech/miniconda3/lib/python3.12/site-packages (from torch>=2.0.1->janus==1.0.0) (12.3.1.170)\n",
            "Requirement already satisfied: nvidia-nccl-cu12==2.21.5 in /home/avidmech/miniconda3/lib/python3.12/site-packages (from torch>=2.0.1->janus==1.0.0) (2.21.5)\n",
            "Requirement already satisfied: nvidia-nvtx-cu12==12.4.127 in /home/avidmech/miniconda3/lib/python3.12/site-packages (from torch>=2.0.1->janus==1.0.0) (12.4.127)\n",
            "Requirement already satisfied: nvidia-nvjitlink-cu12==12.4.127 in /home/avidmech/miniconda3/lib/python3.12/site-packages (from torch>=2.0.1->janus==1.0.0) (12.4.127)\n",
            "Requirement already satisfied: triton==3.1.0 in /home/avidmech/miniconda3/lib/python3.12/site-packages (from torch>=2.0.1->janus==1.0.0) (3.1.0)\n",
            "Requirement already satisfied: setuptools in /home/avidmech/miniconda3/lib/python3.12/site-packages (from torch>=2.0.1->janus==1.0.0) (75.8.0)\n",
            "Requirement already satisfied: sympy==1.13.1 in /home/avidmech/miniconda3/lib/python3.12/site-packages (from torch>=2.0.1->janus==1.0.0) (1.13.1)\n",
            "Requirement already satisfied: mpmath<1.4,>=1.1.0 in /home/avidmech/miniconda3/lib/python3.12/site-packages (from sympy==1.13.1->torch>=2.0.1->janus==1.0.0) (1.3.0)\n",
            "Requirement already satisfied: numpy>=1.17 in /home/avidmech/miniconda3/lib/python3.12/site-packages (from transformers>=4.38.2->janus==1.0.0) (1.26.4)\n",
            "Requirement already satisfied: packaging>=20.0 in /home/avidmech/miniconda3/lib/python3.12/site-packages (from transformers>=4.38.2->janus==1.0.0) (23.2)\n",
            "Requirement already satisfied: regex!=2019.12.17 in /home/avidmech/miniconda3/lib/python3.12/site-packages (from transformers>=4.38.2->janus==1.0.0) (2024.9.11)\n",
            "Requirement already satisfied: requests in /home/avidmech/miniconda3/lib/python3.12/site-packages (from transformers>=4.38.2->janus==1.0.0) (2.32.3)\n",
            "Requirement already satisfied: tokenizers<0.22,>=0.21 in /home/avidmech/miniconda3/lib/python3.12/site-packages (from transformers>=4.38.2->janus==1.0.0) (0.21.0)\n",
            "Requirement already satisfied: tqdm>=4.27 in /home/avidmech/miniconda3/lib/python3.12/site-packages (from transformers>=4.38.2->janus==1.0.0) (4.67.1)\n",
            "Requirement already satisfied: psutil in /home/avidmech/miniconda3/lib/python3.12/site-packages (from accelerate->janus==1.0.0) (5.9.8)\n",
            "Requirement already satisfied: six in /home/avidmech/miniconda3/lib/python3.12/site-packages (from attrdict->janus==1.0.0) (1.16.0)\n",
            "Requirement already satisfied: MarkupSafe>=2.0 in /home/avidmech/miniconda3/lib/python3.12/site-packages (from jinja2->torch>=2.0.1->janus==1.0.0) (2.1.5)\n",
            "Requirement already satisfied: charset-normalizer<4,>=2 in /home/avidmech/miniconda3/lib/python3.12/site-packages (from requests->transformers>=4.38.2->janus==1.0.0) (2.0.4)\n",
            "Requirement already satisfied: idna<4,>=2.5 in /home/avidmech/miniconda3/lib/python3.12/site-packages (from requests->transformers>=4.38.2->janus==1.0.0) (3.7)\n",
            "Requirement already satisfied: urllib3<3,>=1.21.1 in /home/avidmech/miniconda3/lib/python3.12/site-packages (from requests->transformers>=4.38.2->janus==1.0.0) (2.1.0)\n",
            "Requirement already satisfied: certifi>=2017.4.17 in /home/avidmech/miniconda3/lib/python3.12/site-packages (from requests->transformers>=4.38.2->janus==1.0.0) (2024.6.2)\n",
            "Requirement already satisfied: pillow!=8.3.*,>=5.3.0 in /home/avidmech/miniconda3/lib/python3.12/site-packages (from torchvision->timm>=0.9.16->janus==1.0.0) (10.4.0)\n",
            "Building wheels for collected packages: janus\n",
            "  Building editable for janus (pyproject.toml) ... \u001b[?25l-\b \b\\\b \bdone\n",
            "\u001b[?25h  Created wheel for janus: filename=janus-1.0.0-0.editable-py3-none-any.whl size=20330 sha256=c080b3ea09ce3287ae6363dcdbb2b8301d88cce4a9568604c14ca7c4233cb699\n",
            "  Stored in directory: /tmp/pip-ephem-wheel-cache-ioquynsi/wheels/1f/2f/e9/6cfcfb3e4b258a55997d2fa96c37a074ea39a00f84e31ca8d5\n",
            "Successfully built janus\n",
            "Installing collected packages: janus\n",
            "  Attempting uninstall: janus\n",
            "    Found existing installation: janus 1.0.0\n",
            "    Uninstalling janus-1.0.0:\n",
            "      Successfully uninstalled janus-1.0.0\n",
            "Successfully installed janus-1.0.0\n"
          ]
        }
      ]
    },
    {
      "cell_type": "code",
      "source": [
        "!python -m pip install --upgrade pip wheel setuptools"
      ],
      "metadata": {
        "colab": {
          "base_uri": "https://localhost:8080/"
        },
        "id": "MhPenQWHgWJc",
        "outputId": "d23357fa-8098-43fc-f33a-987ce80c2fc0"
      },
      "execution_count": null,
      "outputs": [
        {
          "output_type": "stream",
          "name": "stdout",
          "text": [
            "Requirement already satisfied: pip in /home/avidmech/miniconda3/lib/python3.12/site-packages (25.0.1)\n",
            "Requirement already satisfied: wheel in /home/avidmech/miniconda3/lib/python3.12/site-packages (0.45.1)\n",
            "Requirement already satisfied: setuptools in /home/avidmech/miniconda3/lib/python3.12/site-packages (75.8.0)\n"
          ]
        }
      ]
    },
    {
      "cell_type": "code",
      "source": [
        "!pip install flash-attn --no-build-isolation\n"
      ],
      "metadata": {
        "colab": {
          "base_uri": "https://localhost:8080/"
        },
        "id": "LbzGvRbVrP_K",
        "outputId": "4f359564-bc9b-4f5a-90f8-75bcc344d2e9"
      },
      "execution_count": null,
      "outputs": [
        {
          "output_type": "stream",
          "name": "stdout",
          "text": [
            "Requirement already satisfied: flash-attn in /home/avidmech/miniconda3/lib/python3.12/site-packages (2.6.3)\r\n",
            "Requirement already satisfied: torch in /home/avidmech/miniconda3/lib/python3.12/site-packages (from flash-attn) (2.5.1)\r\n",
            "Requirement already satisfied: einops in /home/avidmech/miniconda3/lib/python3.12/site-packages (from flash-attn) (0.8.0)\r\n",
            "Requirement already satisfied: filelock in /home/avidmech/miniconda3/lib/python3.12/site-packages (from torch->flash-attn) (3.13.1)\r\n",
            "Requirement already satisfied: typing-extensions>=4.8.0 in /home/avidmech/miniconda3/lib/python3.12/site-packages (from torch->flash-attn) (4.12.2)\r\n",
            "Requirement already satisfied: networkx in /home/avidmech/miniconda3/lib/python3.12/site-packages (from torch->flash-attn) (3.2.1)\r\n",
            "Requirement already satisfied: jinja2 in /home/avidmech/miniconda3/lib/python3.12/site-packages (from torch->flash-attn) (3.1.3)\r\n",
            "Requirement already satisfied: fsspec in /home/avidmech/miniconda3/lib/python3.12/site-packages (from torch->flash-attn) (2024.6.1)\r\n",
            "Requirement already satisfied: nvidia-cuda-nvrtc-cu12==12.4.127 in /home/avidmech/miniconda3/lib/python3.12/site-packages (from torch->flash-attn) (12.4.127)\r\n",
            "Requirement already satisfied: nvidia-cuda-runtime-cu12==12.4.127 in /home/avidmech/miniconda3/lib/python3.12/site-packages (from torch->flash-attn) (12.4.127)\r\n",
            "Requirement already satisfied: nvidia-cuda-cupti-cu12==12.4.127 in /home/avidmech/miniconda3/lib/python3.12/site-packages (from torch->flash-attn) (12.4.127)\r\n",
            "Requirement already satisfied: nvidia-cudnn-cu12==9.1.0.70 in /home/avidmech/miniconda3/lib/python3.12/site-packages (from torch->flash-attn) (9.1.0.70)\r\n",
            "Requirement already satisfied: nvidia-cublas-cu12==12.4.5.8 in /home/avidmech/miniconda3/lib/python3.12/site-packages (from torch->flash-attn) (12.4.5.8)\r\n",
            "Requirement already satisfied: nvidia-cufft-cu12==11.2.1.3 in /home/avidmech/miniconda3/lib/python3.12/site-packages (from torch->flash-attn) (11.2.1.3)\r\n",
            "Requirement already satisfied: nvidia-curand-cu12==10.3.5.147 in /home/avidmech/miniconda3/lib/python3.12/site-packages (from torch->flash-attn) (10.3.5.147)\r\n",
            "Requirement already satisfied: nvidia-cusolver-cu12==11.6.1.9 in /home/avidmech/miniconda3/lib/python3.12/site-packages (from torch->flash-attn) (11.6.1.9)\r\n",
            "Requirement already satisfied: nvidia-cusparse-cu12==12.3.1.170 in /home/avidmech/miniconda3/lib/python3.12/site-packages (from torch->flash-attn) (12.3.1.170)\r\n",
            "Requirement already satisfied: nvidia-nccl-cu12==2.21.5 in /home/avidmech/miniconda3/lib/python3.12/site-packages (from torch->flash-attn) (2.21.5)\r\n",
            "Requirement already satisfied: nvidia-nvtx-cu12==12.4.127 in /home/avidmech/miniconda3/lib/python3.12/site-packages (from torch->flash-attn) (12.4.127)\r\n",
            "Requirement already satisfied: nvidia-nvjitlink-cu12==12.4.127 in /home/avidmech/miniconda3/lib/python3.12/site-packages (from torch->flash-attn) (12.4.127)\r\n",
            "Requirement already satisfied: triton==3.1.0 in /home/avidmech/miniconda3/lib/python3.12/site-packages (from torch->flash-attn) (3.1.0)\r\n",
            "Requirement already satisfied: setuptools in /home/avidmech/miniconda3/lib/python3.12/site-packages (from torch->flash-attn) (75.8.0)\r\n",
            "Requirement already satisfied: sympy==1.13.1 in /home/avidmech/miniconda3/lib/python3.12/site-packages (from torch->flash-attn) (1.13.1)\r\n",
            "Requirement already satisfied: mpmath<1.4,>=1.1.0 in /home/avidmech/miniconda3/lib/python3.12/site-packages (from sympy==1.13.1->torch->flash-attn) (1.3.0)\r\n",
            "Requirement already satisfied: MarkupSafe>=2.0 in /home/avidmech/miniconda3/lib/python3.12/site-packages (from jinja2->torch->flash-attn) (2.1.5)\r\n"
          ]
        }
      ]
    },
    {
      "cell_type": "code",
      "source": [
        "!python3 -m pip install pip --upgrade\n",
        "!pip install pyopenssl --upgrade"
      ],
      "metadata": {
        "colab": {
          "base_uri": "https://localhost:8080/"
        },
        "id": "-ICz3lQGusR5",
        "outputId": "a3cd65a8-0f9b-4e93-d58b-c7786b15eeeb"
      },
      "execution_count": null,
      "outputs": [
        {
          "output_type": "stream",
          "name": "stdout",
          "text": [
            "Requirement already satisfied: pip in /home/avidmech/miniconda3/lib/python3.12/site-packages (25.0.1)\n",
            "Requirement already satisfied: pyopenssl in /home/avidmech/miniconda3/lib/python3.12/site-packages (25.0.0)\n",
            "Requirement already satisfied: cryptography<45,>=41.0.5 in /home/avidmech/miniconda3/lib/python3.12/site-packages (from pyopenssl) (42.0.5)\n",
            "Requirement already satisfied: typing-extensions>=4.9 in /home/avidmech/miniconda3/lib/python3.12/site-packages (from pyopenssl) (4.12.2)\n",
            "Requirement already satisfied: cffi>=1.12 in /home/avidmech/miniconda3/lib/python3.12/site-packages (from cryptography<45,>=41.0.5->pyopenssl) (1.16.0)\n",
            "Requirement already satisfied: pycparser in /home/avidmech/miniconda3/lib/python3.12/site-packages (from cffi>=1.12->cryptography<45,>=41.0.5->pyopenssl) (2.21)\n"
          ]
        }
      ]
    },
    {
      "cell_type": "code",
      "execution_count": null,
      "metadata": {
        "colab": {
          "base_uri": "https://localhost:8080/"
        },
        "id": "D1mCSQM06Cn4",
        "outputId": "d23aa11c-21df-47d6-9d55-637510a1ca2f"
      },
      "outputs": [
        {
          "output_type": "stream",
          "name": "stderr",
          "text": [
            "Some kwargs in processor config are unused and will not have any effect: mask_prompt, ignore_id, add_special_token, sft_format, image_tag, num_image_tokens. \n",
            "huggingface/tokenizers: The current process just got forked, after parallelism has already been used. Disabling parallelism to avoid deadlocks...\n",
            "To disable this warning, you can either:\n",
            "\t- Avoid using `tokenizers` before the fork if possible\n",
            "\t- Explicitly set the environment variable TOKENIZERS_PARALLELISM=(true | false)\n"
          ]
        }
      ],
      "source": [
        "import os\n",
        "import PIL.Image\n",
        "import torch\n",
        "import numpy as np\n",
        "from transformers import AutoModelForCausalLM\n",
        "from janus.models import MultiModalityCausalLM, VLChatProcessor\n",
        "\n",
        "\n",
        "# specify the path to the model\n",
        "model_path = \"deepseek-ai/Janus-Pro-1B\"\n",
        "vl_chat_processor: VLChatProcessor = VLChatProcessor.from_pretrained(model_path)\n",
        "tokenizer = vl_chat_processor.tokenizer\n",
        "\n",
        "vl_gpt: MultiModalityCausalLM = AutoModelForCausalLM.from_pretrained(\n",
        "    model_path, trust_remote_code=True\n",
        ")\n",
        "vl_gpt = vl_gpt.to(torch.bfloat16).cuda().eval()\n",
        "\n",
        "conversation = [\n",
        "    {\n",
        "        \"role\": \"User\",\n",
        "        \"content\": \"A dinasoure in a centerl park in Neyyork \",\n",
        "    },\n",
        "    {\"role\": \"Assistant\", \"content\": \"\"},\n",
        "]\n",
        "\n",
        "sft_format = vl_chat_processor.apply_sft_template_for_multi_turn_prompts(\n",
        "    conversations=conversation,\n",
        "    sft_format=vl_chat_processor.sft_format,\n",
        "    system_prompt=\"\",\n",
        ")\n",
        "prompt = sft_format + vl_chat_processor.image_start_tag\n",
        "\n",
        "\n",
        "@torch.inference_mode()\n",
        "def generate(\n",
        "    mmgpt: MultiModalityCausalLM,\n",
        "    vl_chat_processor: VLChatProcessor,\n",
        "    prompt: str,\n",
        "    temperature: float = 1,\n",
        "    parallel_size: int = 16,\n",
        "    cfg_weight: float = 5,\n",
        "    image_token_num_per_image: int = 576,\n",
        "    img_size: int = 384,\n",
        "    patch_size: int = 16,\n",
        "):\n",
        "    input_ids = vl_chat_processor.tokenizer.encode(prompt)\n",
        "    input_ids = torch.LongTensor(input_ids)\n",
        "\n",
        "    tokens = torch.zeros((parallel_size*2, len(input_ids)), dtype=torch.int).cuda()\n",
        "    for i in range(parallel_size*2):\n",
        "        tokens[i, :] = input_ids\n",
        "        if i % 2 != 0:\n",
        "            tokens[i, 1:-1] = vl_chat_processor.pad_id\n",
        "\n",
        "    inputs_embeds = mmgpt.language_model.get_input_embeddings()(tokens)\n",
        "\n",
        "    generated_tokens = torch.zeros((parallel_size, image_token_num_per_image), dtype=torch.int).cuda()\n",
        "\n",
        "    for i in range(image_token_num_per_image):\n",
        "        outputs = mmgpt.language_model.model(inputs_embeds=inputs_embeds, use_cache=True, past_key_values=outputs.past_key_values if i != 0 else None)\n",
        "        hidden_states = outputs.last_hidden_state\n",
        "\n",
        "        logits = mmgpt.gen_head(hidden_states[:, -1, :])\n",
        "        logit_cond = logits[0::2, :]\n",
        "        logit_uncond = logits[1::2, :]\n",
        "\n",
        "        logits = logit_uncond + cfg_weight * (logit_cond-logit_uncond)\n",
        "        probs = torch.softmax(logits / temperature, dim=-1)\n",
        "\n",
        "        next_token = torch.multinomial(probs, num_samples=1)\n",
        "        generated_tokens[:, i] = next_token.squeeze(dim=-1)\n",
        "\n",
        "        next_token = torch.cat([next_token.unsqueeze(dim=1), next_token.unsqueeze(dim=1)], dim=1).view(-1)\n",
        "        img_embeds = mmgpt.prepare_gen_img_embeds(next_token)\n",
        "        inputs_embeds = img_embeds.unsqueeze(dim=1)\n",
        "\n",
        "\n",
        "    dec = mmgpt.gen_vision_model.decode_code(generated_tokens.to(dtype=torch.int), shape=[parallel_size, 8, img_size//patch_size, img_size//patch_size])\n",
        "    dec = dec.to(torch.float32).cpu().numpy().transpose(0, 2, 3, 1)\n",
        "\n",
        "    dec = np.clip((dec + 1) / 2 * 255, 0, 255)\n",
        "\n",
        "    visual_img = np.zeros((parallel_size, img_size, img_size, 3), dtype=np.uint8)\n",
        "    visual_img[:, :, :] = dec\n",
        "\n",
        "    os.makedirs('generated_samples', exist_ok=True)\n",
        "    for i in range(parallel_size):\n",
        "        save_path = os.path.join('generated_samples', \"img_{}.jpg\".format(i))\n",
        "        PIL.Image.fromarray(visual_img[i]).save(save_path)\n",
        "\n",
        "\n",
        "generate(\n",
        "    vl_gpt,\n",
        "    vl_chat_processor,\n",
        "    prompt,\n",
        ")"
      ]
    },
    {
      "cell_type": "code",
      "source": [],
      "metadata": {
        "id": "xyBsmgf1vtDw"
      },
      "execution_count": null,
      "outputs": []
    }
  ]
}